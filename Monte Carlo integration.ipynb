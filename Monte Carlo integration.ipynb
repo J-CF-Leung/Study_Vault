{
 "cells": [
  {
   "cell_type": "markdown",
   "id": "42cda142",
   "metadata": {},
   "source": [
    "## Integration via acceptance-rejection method\n",
    "\n",
    "A rectangular box is drawn around the integration area, with $a<x<b$ and $0<y<max(f(a),f(b))$, points in the box are randomly sampled, and determined if they are within the desired area.\n",
    "With enough random points, the numerical value of the integral can be found"
   ]
  },
  {
   "cell_type": "code",
   "execution_count": 1,
   "id": "7c4e96bb",
   "metadata": {},
   "outputs": [
    {
     "ename": "ModuleNotFoundError",
     "evalue": "No module named 'scipy.stats.sampling'",
     "output_type": "error",
     "traceback": [
      "\u001b[1;31m---------------------------------------------------------------------------\u001b[0m",
      "\u001b[1;31mModuleNotFoundError\u001b[0m                       Traceback (most recent call last)",
      "\u001b[1;32m<ipython-input-1-54453b128d5a>\u001b[0m in \u001b[0;36m<module>\u001b[1;34m\u001b[0m\n\u001b[0;32m      3\u001b[0m \u001b[1;32mfrom\u001b[0m \u001b[0mscipy\u001b[0m\u001b[1;33m.\u001b[0m\u001b[0mintegrate\u001b[0m \u001b[1;32mimport\u001b[0m \u001b[0mquad\u001b[0m\u001b[1;33m\u001b[0m\u001b[1;33m\u001b[0m\u001b[0m\n\u001b[0;32m      4\u001b[0m \u001b[1;32mfrom\u001b[0m \u001b[0mnumpy\u001b[0m \u001b[1;32mimport\u001b[0m \u001b[0mpi\u001b[0m\u001b[1;33m\u001b[0m\u001b[1;33m\u001b[0m\u001b[0m\n\u001b[1;32m----> 5\u001b[1;33m \u001b[1;32mfrom\u001b[0m \u001b[0mscipy\u001b[0m\u001b[1;33m.\u001b[0m\u001b[0mstats\u001b[0m\u001b[1;33m.\u001b[0m\u001b[0msampling\u001b[0m \u001b[1;32mimport\u001b[0m \u001b[0mTransformedDensityRejection\u001b[0m\u001b[1;33m\u001b[0m\u001b[1;33m\u001b[0m\u001b[0m\n\u001b[0m",
      "\u001b[1;31mModuleNotFoundError\u001b[0m: No module named 'scipy.stats.sampling'"
     ]
    }
   ],
   "source": [
    "import numpy as np\n",
    "import scipy as sp\n",
    "from scipy.integrate import quad\n",
    "from numpy import pi\n",
    "from scipy.stats.sampling import TransformedDensityRejection"
   ]
  },
  {
   "cell_type": "code",
   "execution_count": null,
   "id": "9a6d6a76",
   "metadata": {},
   "outputs": [],
   "source": [
    "# Function to be integrated\n",
    "def gauss(x):\n",
    "    y = np.exp(-x**2)\n",
    "    return y\n",
    "\n",
    "# Generating points\n",
    "N = 100000\n",
    "xmin = 0\n",
    "xmax = 10\n",
    "ymin = 0\n",
    "ymax = max(gauss(xmin),gauss(xmax))\n",
    "\n",
    "points = np.random.rand(N,2)\n",
    "points[0:N-1,0] = xmin + (xmax-xmin)*points[0:N-1,0]\n",
    "points[0:N-1,1] = ymin + (ymax-ymin)*points[0:N-1,1]\n",
    "\n",
    "# Acceptance-rejection\n",
    "acc = 0\n",
    "for i in range(0, N):\n",
    "    if points[i, 1] < gauss(points[i,0]):\n",
    "        acc+=1\n",
    "print(\"The result from the Monte Carlo algorithm is \", acc/N)\n",
    "\n",
    "actual = quad(gauss, xmin, xmax)[0]\n",
    "print(\"The actual result is \", actual)"
   ]
  },
  {
   "cell_type": "markdown",
   "id": "0f0b0dfa",
   "metadata": {},
   "source": [
    "However, an acceptance-rejection algorithm with uniform sampling can take very long to converge, dramatically increasing the computation time required to get a good result."
   ]
  },
  {
   "cell_type": "markdown",
   "id": "4e806e88",
   "metadata": {},
   "source": [
    "## Integration by the \"crude method\"\n",
    "\n",
    "Another method of integration is randomly sampling $N$ points for the interval $a<x<b$ and evaluating the integral as a sum:\n",
    "$$\\int_a^b f(x)\\,dx \\approx \\frac{b-a}{N}\\sum_i f(x_i)$$"
   ]
  },
  {
   "cell_type": "code",
   "execution_count": null,
   "id": "c3a832b0",
   "metadata": {},
   "outputs": [],
   "source": [
    "N_crude = 100000\n",
    "xmin = 0\n",
    "xmax = 10\n",
    "x_points = xmin + (xmax-xmin)*np.random.rand(N_crude)\n",
    "y_points = gauss(x_points)\n",
    "\n",
    "estim = (xmax-xmin)*np.sum(y_points)/N_crude\n",
    "print(estim)\n",
    "print(\"The actual result is \", actual)"
   ]
  },
  {
   "cell_type": "markdown",
   "id": "82f5436b",
   "metadata": {},
   "source": [
    "This method is also incredibly slow to converge to the actual value. This gives rise to the need for importance sampling."
   ]
  },
  {
   "cell_type": "markdown",
   "id": "88fce0d9",
   "metadata": {},
   "source": [
    "## Integration by importance sampling\n",
    "\n",
    "In the case of integrating the Gaussian, points way from $x=0$ rapidly become less significant to the integral. Therefore, sampling more points near $x=0$ will make the sum converge to the actual value more quickly.\n",
    "\n",
    "For a probability density function $p(x)$ used to generate the samples, the integral is:\n",
    "$$\\int_b^a f(x)\\,dx \\approx \\frac{1}{N}\\sum_i\\frac{f(x_i)}{p(x_i)}$$\n",
    "\n",
    "To integrate the Gaussian, the best probability distribution to use is... the Gaussian"
   ]
  },
  {
   "cell_type": "code",
   "execution_count": null,
   "id": "675e7cc6",
   "metadata": {},
   "outputs": [],
   "source": [
    "# The Gaussian probability distribution for e^-x^2 from xmin to xmax\n",
    "urng = np.random.default_rng()\n",
    "class MyDist:\n",
    "    def pdf(self, x):\n",
    "        return np.exp(-x*x)\n",
    "    def dpdf(self, x):\n",
    "        return -2*x*np.exp(-x*x)\n",
    "\n",
    "dist = MyDist()\n",
    "rng = TransformedDensityRejection(dist, domain=(xmin, xmax),\n",
    "                                  random_state=urng)\n",
    "\n",
    "\n",
    "# Sampling\n",
    "N = 1000\n",
    "x_points = rng.rvs(N)\n",
    "p_x = dist(x_points)\n",
    "y_points = gauss(x_points)\n",
    "\n",
    "# Evaluating the integral\n",
    "estim = np.sum(y_points/p_x)/N\n",
    "print(estim)\n",
    "print(\"The actual result is \", actual)"
   ]
  },
  {
   "cell_type": "code",
   "execution_count": null,
   "id": "5255769f",
   "metadata": {},
   "outputs": [],
   "source": []
  }
 ],
 "metadata": {
  "kernelspec": {
   "display_name": "Python 3",
   "language": "python",
   "name": "python3"
  },
  "language_info": {
   "codemirror_mode": {
    "name": "ipython",
    "version": 3
   },
   "file_extension": ".py",
   "mimetype": "text/x-python",
   "name": "python",
   "nbconvert_exporter": "python",
   "pygments_lexer": "ipython3",
   "version": "3.8.8"
  }
 },
 "nbformat": 4,
 "nbformat_minor": 5
}
